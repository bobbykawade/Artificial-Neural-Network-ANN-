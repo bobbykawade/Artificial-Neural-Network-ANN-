{
  "nbformat": 4,
  "nbformat_minor": 0,
  "metadata": {
    "kernelspec": {
      "display_name": "Python 3",
      "language": "python",
      "name": "python3"
    },
    "language_info": {
      "codemirror_mode": {
        "name": "ipython",
        "version": 3
      },
      "file_extension": ".py",
      "mimetype": "text/x-python",
      "name": "python",
      "nbconvert_exporter": "python",
      "pygments_lexer": "ipython3",
      "version": "3.8.5"
    },
    "colab": {
      "name": "Bitcoin Tweets Scraping using Twitter API Notebook.ipynb",
      "provenance": [],
      "collapsed_sections": [],
      "include_colab_link": true
    }
  },
  "cells": [
    {
      "cell_type": "markdown",
      "metadata": {
        "id": "view-in-github",
        "colab_type": "text"
      },
      "source": [
        "<a href=\"https://colab.research.google.com/github/bobbykawade/Artificial-Neural-Network-ANN-/blob/main/Bitcoin_Tweets_Scraping_using_Twitter_API_Notebook.ipynb\" target=\"_parent\"><img src=\"https://colab.research.google.com/assets/colab-badge.svg\" alt=\"Open In Colab\"/></a>"
      ]
    },
    {
      "cell_type": "code",
      "metadata": {
        "colab": {
          "base_uri": "https://localhost:8080/"
        },
        "id": "1eHBuYwQ5v6B",
        "outputId": "87bc6efd-fda2-48fe-8297-4435ae553b0c"
      },
      "source": [
        "!pip install tweepy"
      ],
      "execution_count": 1,
      "outputs": [
        {
          "output_type": "stream",
          "text": [
            "Requirement already satisfied: tweepy in /usr/local/lib/python3.7/dist-packages (3.10.0)\n",
            "Requirement already satisfied: requests-oauthlib>=0.7.0 in /usr/local/lib/python3.7/dist-packages (from tweepy) (1.3.0)\n",
            "Requirement already satisfied: six>=1.10.0 in /usr/local/lib/python3.7/dist-packages (from tweepy) (1.15.0)\n",
            "Requirement already satisfied: requests[socks]>=2.11.1 in /usr/local/lib/python3.7/dist-packages (from tweepy) (2.23.0)\n",
            "Requirement already satisfied: oauthlib>=3.0.0 in /usr/local/lib/python3.7/dist-packages (from requests-oauthlib>=0.7.0->tweepy) (3.1.1)\n",
            "Requirement already satisfied: urllib3!=1.25.0,!=1.25.1,<1.26,>=1.21.1 in /usr/local/lib/python3.7/dist-packages (from requests[socks]>=2.11.1->tweepy) (1.24.3)\n",
            "Requirement already satisfied: certifi>=2017.4.17 in /usr/local/lib/python3.7/dist-packages (from requests[socks]>=2.11.1->tweepy) (2021.5.30)\n",
            "Requirement already satisfied: idna<3,>=2.5 in /usr/local/lib/python3.7/dist-packages (from requests[socks]>=2.11.1->tweepy) (2.10)\n",
            "Requirement already satisfied: chardet<4,>=3.0.2 in /usr/local/lib/python3.7/dist-packages (from requests[socks]>=2.11.1->tweepy) (3.0.4)\n",
            "Requirement already satisfied: PySocks!=1.5.7,>=1.5.6; extra == \"socks\" in /usr/local/lib/python3.7/dist-packages (from requests[socks]>=2.11.1->tweepy) (1.7.1)\n"
          ],
          "name": "stdout"
        }
      ]
    },
    {
      "cell_type": "code",
      "metadata": {
        "id": "4-tSycnq5v6G"
      },
      "source": [
        "import tweepy\n",
        "import pandas as pd\n",
        "import numpy as np"
      ],
      "execution_count": 2,
      "outputs": []
    },
    {
      "cell_type": "code",
      "metadata": {
        "id": "AXDr8xbV5v6G"
      },
      "source": [
        "# all 4 authentication keys to acess twitter API\n",
        "# to connect as OAth Handler or jump server/ reverse proxy server\n",
        "consumer_key = \"GnRTq82coCIo3jt4jA7zODoWm\"\n",
        "consumer_key_secret = \"Ucm1I2eizuzjFD2VptFY8mvxL8QIYDvaREnSTzLyUFcwz7RKoO\"\n",
        "\n",
        "# from proxy server we need to connect\n",
        "access_token = \"1136245774843428864-MNy7YOVmdYU0RtWh8wgnwOUWzHyExj\"\n",
        "access_token_secret = \"9Gz6bd2tjXLCN9iUfyjzOmNkF1RXm0MnyM2HVCe1geYwC\""
      ],
      "execution_count": 8,
      "outputs": []
    },
    {
      "cell_type": "code",
      "metadata": {
        "id": "SRRBt1PE5v6H"
      },
      "source": [
        "# connected to jump server of twitter\n",
        "auth = tweepy.OAuthHandler(consumer_key, consumer_key_secret)"
      ],
      "execution_count": 9,
      "outputs": []
    },
    {
      "cell_type": "code",
      "metadata": {
        "id": "6cxcVsc_5v6H"
      },
      "source": [
        "# now we can connect from jump server to web server of twitter\n",
        "auth.set_access_token(access_token, access_token_secret)"
      ],
      "execution_count": 10,
      "outputs": []
    },
    {
      "cell_type": "code",
      "metadata": {
        "id": "RBwLGAJR5v6I"
      },
      "source": [
        "# now we can connect to API Strong server of twitter\n",
        "api = tweepy.API(auth)"
      ],
      "execution_count": 11,
      "outputs": []
    },
    {
      "cell_type": "code",
      "metadata": {
        "id": "-AgWmIGe5v6I"
      },
      "source": [
        "public_tweets = api.search('bitcoin', count=200, lang='en', tweet_mode='extended')"
      ],
      "execution_count": 12,
      "outputs": []
    },
    {
      "cell_type": "code",
      "metadata": {
        "colab": {
          "base_uri": "https://localhost:8080/",
          "height": 359
        },
        "id": "Cbowsf9e5v6J",
        "outputId": "d6ba769a-0e25-4b54-8197-cbda548addbb"
      },
      "source": [
        "# will now create a pandas dataframe as follows:\n",
        "df = pd.DataFrame(data=[tweet.full_text for tweet in public_tweets], columns=['original_Tweets'])\n",
        "\n",
        "# We display the first 10 elements of the dataframe:\n",
        "df.head(10)"
      ],
      "execution_count": 13,
      "outputs": [
        {
          "output_type": "execute_result",
          "data": {
            "text/html": [
              "<div>\n",
              "<style scoped>\n",
              "    .dataframe tbody tr th:only-of-type {\n",
              "        vertical-align: middle;\n",
              "    }\n",
              "\n",
              "    .dataframe tbody tr th {\n",
              "        vertical-align: top;\n",
              "    }\n",
              "\n",
              "    .dataframe thead th {\n",
              "        text-align: right;\n",
              "    }\n",
              "</style>\n",
              "<table border=\"1\" class=\"dataframe\">\n",
              "  <thead>\n",
              "    <tr style=\"text-align: right;\">\n",
              "      <th></th>\n",
              "      <th>original_Tweets</th>\n",
              "    </tr>\n",
              "  </thead>\n",
              "  <tbody>\n",
              "    <tr>\n",
              "      <th>0</th>\n",
              "      <td>I Only Have 5 Bitcoin, Senator Lummis Encourag...</td>\n",
              "    </tr>\n",
              "    <tr>\n",
              "      <th>1</th>\n",
              "      <td>RT @bitcoin_qr: New Bitcoin Giveaways $180 USD...</td>\n",
              "    </tr>\n",
              "    <tr>\n",
              "      <th>2</th>\n",
              "      <td>RT @BetFastBTC: Norrie beats Pouille, advances...</td>\n",
              "    </tr>\n",
              "    <tr>\n",
              "      <th>3</th>\n",
              "      <td>RT @LinaSeiche: Fiat money is designed to keep...</td>\n",
              "    </tr>\n",
              "    <tr>\n",
              "      <th>4</th>\n",
              "      <td>RT @RuleXRP: #xrpcommunity \\nWow! 👊😎\\nNCR\\n@NY...</td>\n",
              "    </tr>\n",
              "    <tr>\n",
              "      <th>5</th>\n",
              "      <td>@MartiniGuyYT Just received 1.64 Bitcoin in my...</td>\n",
              "    </tr>\n",
              "    <tr>\n",
              "      <th>6</th>\n",
              "      <td>RT @johnkvallis: The belief by fiat academics ...</td>\n",
              "    </tr>\n",
              "    <tr>\n",
              "      <th>7</th>\n",
              "      <td>RT @saifedean: Bitcoin is the universal unit f...</td>\n",
              "    </tr>\n",
              "    <tr>\n",
              "      <th>8</th>\n",
              "      <td>RT @Bitfarms_io: 'China’s Bitcoin mining crack...</td>\n",
              "    </tr>\n",
              "    <tr>\n",
              "      <th>9</th>\n",
              "      <td>RT @LinaSeiche: Fiat money is designed to keep...</td>\n",
              "    </tr>\n",
              "  </tbody>\n",
              "</table>\n",
              "</div>"
            ],
            "text/plain": [
              "                                     original_Tweets\n",
              "0  I Only Have 5 Bitcoin, Senator Lummis Encourag...\n",
              "1  RT @bitcoin_qr: New Bitcoin Giveaways $180 USD...\n",
              "2  RT @BetFastBTC: Norrie beats Pouille, advances...\n",
              "3  RT @LinaSeiche: Fiat money is designed to keep...\n",
              "4  RT @RuleXRP: #xrpcommunity \\nWow! 👊😎\\nNCR\\n@NY...\n",
              "5  @MartiniGuyYT Just received 1.64 Bitcoin in my...\n",
              "6  RT @johnkvallis: The belief by fiat academics ...\n",
              "7  RT @saifedean: Bitcoin is the universal unit f...\n",
              "8  RT @Bitfarms_io: 'China’s Bitcoin mining crack...\n",
              "9  RT @LinaSeiche: Fiat money is designed to keep..."
            ]
          },
          "metadata": {
            "tags": []
          },
          "execution_count": 13
        }
      ]
    },
    {
      "cell_type": "code",
      "metadata": {
        "colab": {
          "base_uri": "https://localhost:8080/"
        },
        "id": "Uohhq1Q8dSrw",
        "outputId": "10e3175c-1892-4ff8-9512-bac52bb468f3"
      },
      "source": [
        "df.shape"
      ],
      "execution_count": 15,
      "outputs": [
        {
          "output_type": "execute_result",
          "data": {
            "text/plain": [
              "(100, 7)"
            ]
          },
          "metadata": {
            "tags": []
          },
          "execution_count": 15
        }
      ]
    },
    {
      "cell_type": "code",
      "metadata": {
        "id": "TE17sRrG5v6K"
      },
      "source": [
        "# add relevant data:\n",
        "df['len']  = np.array([len(tweet.full_text) for tweet in public_tweets])\n",
        "df['ID']   = np.array([tweet.id for tweet in public_tweets])\n",
        "df['Date'] = np.array([tweet.created_at for tweet in public_tweets])\n",
        "df['Source'] = np.array([tweet.source for tweet in public_tweets])\n",
        "df['Likes']  = np.array([tweet.favorite_count for tweet in public_tweets])\n",
        "df['RTs']    = np.array([tweet.retweet_count for tweet in public_tweets])"
      ],
      "execution_count": 16,
      "outputs": []
    },
    {
      "cell_type": "code",
      "metadata": {
        "colab": {
          "base_uri": "https://localhost:8080/",
          "height": 359
        },
        "id": "J3MN-YiG5v6K",
        "outputId": "8d75558d-f1bb-4400-9094-d0c5a9bf35ce"
      },
      "source": [
        "# Display of first 10 elements from dataframe:\n",
        "display(df.head(10))"
      ],
      "execution_count": 17,
      "outputs": [
        {
          "output_type": "display_data",
          "data": {
            "text/html": [
              "<div>\n",
              "<style scoped>\n",
              "    .dataframe tbody tr th:only-of-type {\n",
              "        vertical-align: middle;\n",
              "    }\n",
              "\n",
              "    .dataframe tbody tr th {\n",
              "        vertical-align: top;\n",
              "    }\n",
              "\n",
              "    .dataframe thead th {\n",
              "        text-align: right;\n",
              "    }\n",
              "</style>\n",
              "<table border=\"1\" class=\"dataframe\">\n",
              "  <thead>\n",
              "    <tr style=\"text-align: right;\">\n",
              "      <th></th>\n",
              "      <th>original_Tweets</th>\n",
              "      <th>len</th>\n",
              "      <th>ID</th>\n",
              "      <th>Date</th>\n",
              "      <th>Source</th>\n",
              "      <th>Likes</th>\n",
              "      <th>RTs</th>\n",
              "    </tr>\n",
              "  </thead>\n",
              "  <tbody>\n",
              "    <tr>\n",
              "      <th>0</th>\n",
              "      <td>I Only Have 5 Bitcoin, Senator Lummis Encourag...</td>\n",
              "      <td>153</td>\n",
              "      <td>1410250297167933441</td>\n",
              "      <td>2021-06-30 14:54:06</td>\n",
              "      <td>dlvr.it</td>\n",
              "      <td>0</td>\n",
              "      <td>0</td>\n",
              "    </tr>\n",
              "    <tr>\n",
              "      <th>1</th>\n",
              "      <td>RT @bitcoin_qr: New Bitcoin Giveaways $180 USD...</td>\n",
              "      <td>140</td>\n",
              "      <td>1410250293867130886</td>\n",
              "      <td>2021-06-30 14:54:05</td>\n",
              "      <td>Twitter for iPhone</td>\n",
              "      <td>0</td>\n",
              "      <td>26</td>\n",
              "    </tr>\n",
              "    <tr>\n",
              "      <th>2</th>\n",
              "      <td>RT @BetFastBTC: Norrie beats Pouille, advances...</td>\n",
              "      <td>140</td>\n",
              "      <td>1410250292482875396</td>\n",
              "      <td>2021-06-30 14:54:05</td>\n",
              "      <td>dlvr.it</td>\n",
              "      <td>0</td>\n",
              "      <td>1</td>\n",
              "    </tr>\n",
              "    <tr>\n",
              "      <th>3</th>\n",
              "      <td>RT @LinaSeiche: Fiat money is designed to keep...</td>\n",
              "      <td>140</td>\n",
              "      <td>1410250290721431552</td>\n",
              "      <td>2021-06-30 14:54:05</td>\n",
              "      <td>Twitter for Android</td>\n",
              "      <td>0</td>\n",
              "      <td>846</td>\n",
              "    </tr>\n",
              "    <tr>\n",
              "      <th>4</th>\n",
              "      <td>RT @RuleXRP: #xrpcommunity \\nWow! 👊😎\\nNCR\\n@NY...</td>\n",
              "      <td>140</td>\n",
              "      <td>1410250290209693701</td>\n",
              "      <td>2021-06-30 14:54:05</td>\n",
              "      <td>Twitter for Android</td>\n",
              "      <td>0</td>\n",
              "      <td>5</td>\n",
              "    </tr>\n",
              "    <tr>\n",
              "      <th>5</th>\n",
              "      <td>@MartiniGuyYT Just received 1.64 Bitcoin in my...</td>\n",
              "      <td>98</td>\n",
              "      <td>1410250289639313411</td>\n",
              "      <td>2021-06-30 14:54:04</td>\n",
              "      <td>Twitter Web App</td>\n",
              "      <td>0</td>\n",
              "      <td>0</td>\n",
              "    </tr>\n",
              "    <tr>\n",
              "      <th>6</th>\n",
              "      <td>RT @johnkvallis: The belief by fiat academics ...</td>\n",
              "      <td>139</td>\n",
              "      <td>1410250289534443530</td>\n",
              "      <td>2021-06-30 14:54:04</td>\n",
              "      <td>Twitter for Android</td>\n",
              "      <td>0</td>\n",
              "      <td>33</td>\n",
              "    </tr>\n",
              "    <tr>\n",
              "      <th>7</th>\n",
              "      <td>RT @saifedean: Bitcoin is the universal unit f...</td>\n",
              "      <td>140</td>\n",
              "      <td>1410250289341403139</td>\n",
              "      <td>2021-06-30 14:54:04</td>\n",
              "      <td>Twitter Web App</td>\n",
              "      <td>0</td>\n",
              "      <td>142</td>\n",
              "    </tr>\n",
              "    <tr>\n",
              "      <th>8</th>\n",
              "      <td>RT @Bitfarms_io: 'China’s Bitcoin mining crack...</td>\n",
              "      <td>140</td>\n",
              "      <td>1410250289148538880</td>\n",
              "      <td>2021-06-30 14:54:04</td>\n",
              "      <td>Twitter for iPhone</td>\n",
              "      <td>0</td>\n",
              "      <td>24</td>\n",
              "    </tr>\n",
              "    <tr>\n",
              "      <th>9</th>\n",
              "      <td>RT @LinaSeiche: Fiat money is designed to keep...</td>\n",
              "      <td>140</td>\n",
              "      <td>1410250288708132867</td>\n",
              "      <td>2021-06-30 14:54:04</td>\n",
              "      <td>Twitter for Android</td>\n",
              "      <td>0</td>\n",
              "      <td>846</td>\n",
              "    </tr>\n",
              "  </tbody>\n",
              "</table>\n",
              "</div>"
            ],
            "text/plain": [
              "                                     original_Tweets  len  ...  Likes  RTs\n",
              "0  I Only Have 5 Bitcoin, Senator Lummis Encourag...  153  ...      0    0\n",
              "1  RT @bitcoin_qr: New Bitcoin Giveaways $180 USD...  140  ...      0   26\n",
              "2  RT @BetFastBTC: Norrie beats Pouille, advances...  140  ...      0    1\n",
              "3  RT @LinaSeiche: Fiat money is designed to keep...  140  ...      0  846\n",
              "4  RT @RuleXRP: #xrpcommunity \\nWow! 👊😎\\nNCR\\n@NY...  140  ...      0    5\n",
              "5  @MartiniGuyYT Just received 1.64 Bitcoin in my...   98  ...      0    0\n",
              "6  RT @johnkvallis: The belief by fiat academics ...  139  ...      0   33\n",
              "7  RT @saifedean: Bitcoin is the universal unit f...  140  ...      0  142\n",
              "8  RT @Bitfarms_io: 'China’s Bitcoin mining crack...  140  ...      0   24\n",
              "9  RT @LinaSeiche: Fiat money is designed to keep...  140  ...      0  846\n",
              "\n",
              "[10 rows x 7 columns]"
            ]
          },
          "metadata": {
            "tags": []
          }
        }
      ]
    },
    {
      "cell_type": "code",
      "metadata": {
        "id": "lKMxf1AA5v6L"
      },
      "source": [
        "# dataframe to be stored in CSV file\n",
        "df.to_csv('bitcointweetsscraping.csv')"
      ],
      "execution_count": 18,
      "outputs": []
    },
    {
      "cell_type": "code",
      "metadata": {
        "id": "fWhBylBk5v6L"
      },
      "source": [
        ""
      ],
      "execution_count": null,
      "outputs": []
    },
    {
      "cell_type": "code",
      "metadata": {
        "id": "KwYOYRex5v6L"
      },
      "source": [
        ""
      ],
      "execution_count": null,
      "outputs": []
    }
  ]
}