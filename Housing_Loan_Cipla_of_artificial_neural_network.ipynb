{
  "nbformat": 4,
  "nbformat_minor": 0,
  "metadata": {
    "colab": {
      "name": "Housing Loan Cipla of artificial_neural_network.ipynb",
      "provenance": [],
      "collapsed_sections": [],
      "include_colab_link": true
    },
    "kernelspec": {
      "name": "python3",
      "display_name": "Python 3"
    }
  },
  "cells": [
    {
      "cell_type": "markdown",
      "metadata": {
        "id": "view-in-github",
        "colab_type": "text"
      },
      "source": [
        "<a href=\"https://colab.research.google.com/github/bobbykawade/Artificial-Neural-Network-ANN-/blob/main/Housing_Loan_Cipla_of_artificial_neural_network.ipynb\" target=\"_parent\"><img src=\"https://colab.research.google.com/assets/colab-badge.svg\" alt=\"Open In Colab\"/></a>"
      ]
    },
    {
      "cell_type": "markdown",
      "metadata": {
        "id": "3cbb7fRy-eyr"
      },
      "source": [
        "# Artificial Neural Network"
      ]
    },
    {
      "cell_type": "markdown",
      "metadata": {
        "id": "8sNDnxE2-pwE"
      },
      "source": [
        "### Importing the libraries"
      ]
    },
    {
      "cell_type": "code",
      "metadata": {
        "id": "lxChR1Rk-umf"
      },
      "source": [
        "import numpy as np\n",
        "import pandas as pd\n",
        "import tensorflow as tf"
      ],
      "execution_count": 1,
      "outputs": []
    },
    {
      "cell_type": "code",
      "metadata": {
        "id": "uBTqR3nacj0e",
        "colab": {
          "base_uri": "https://localhost:8080/",
          "height": 35
        },
        "outputId": "549c07ca-8c22-494d-92d3-92890fdb7968"
      },
      "source": [
        "tf.__version__"
      ],
      "execution_count": 2,
      "outputs": [
        {
          "output_type": "execute_result",
          "data": {
            "application/vnd.google.colaboratory.intrinsic+json": {
              "type": "string"
            },
            "text/plain": [
              "'2.5.0'"
            ]
          },
          "metadata": {
            "tags": []
          },
          "execution_count": 2
        }
      ]
    },
    {
      "cell_type": "markdown",
      "metadata": {
        "id": "AG3FQEch-yuA"
      },
      "source": [
        "## Part 1 - Data Preprocessing"
      ]
    },
    {
      "cell_type": "markdown",
      "metadata": {
        "id": "-4zq8Mza_D9O"
      },
      "source": [
        "### Importing the dataset"
      ]
    },
    {
      "cell_type": "code",
      "metadata": {
        "id": "B9CV13Co_HHM",
        "colab": {
          "base_uri": "https://localhost:8080/",
          "height": 182
        },
        "outputId": "4a0f814d-7895-42a2-f6ce-a113cd55fe65"
      },
      "source": [
        "dataset = pd.read_csv('train_concat.csv')\n",
        "dataset.head(2)"
      ],
      "execution_count": 3,
      "outputs": [
        {
          "output_type": "execute_result",
          "data": {
            "text/html": [
              "<div>\n",
              "<style scoped>\n",
              "    .dataframe tbody tr th:only-of-type {\n",
              "        vertical-align: middle;\n",
              "    }\n",
              "\n",
              "    .dataframe tbody tr th {\n",
              "        vertical-align: top;\n",
              "    }\n",
              "\n",
              "    .dataframe thead th {\n",
              "        text-align: right;\n",
              "    }\n",
              "</style>\n",
              "<table border=\"1\" class=\"dataframe\">\n",
              "  <thead>\n",
              "    <tr style=\"text-align: right;\">\n",
              "      <th></th>\n",
              "      <th>Unnamed: 0</th>\n",
              "      <th>Gender</th>\n",
              "      <th>Income Stability</th>\n",
              "      <th>Profession</th>\n",
              "      <th>Type of Employment</th>\n",
              "      <th>Location</th>\n",
              "      <th>Expense Type 1</th>\n",
              "      <th>Expense Type 2</th>\n",
              "      <th>Dependents</th>\n",
              "      <th>No. of Defaults</th>\n",
              "      <th>Has Active Credit Card</th>\n",
              "      <th>Property Type</th>\n",
              "      <th>Property Location</th>\n",
              "      <th>Co-Applicant</th>\n",
              "      <th>Age</th>\n",
              "      <th>Income (USD)</th>\n",
              "      <th>Loan Amount Request (USD)</th>\n",
              "      <th>Current Loan Expenses (USD)</th>\n",
              "      <th>Credit Score</th>\n",
              "      <th>Property Price</th>\n",
              "      <th>Loan Sanction Amount (USD)</th>\n",
              "    </tr>\n",
              "  </thead>\n",
              "  <tbody>\n",
              "    <tr>\n",
              "      <th>0</th>\n",
              "      <td>0</td>\n",
              "      <td>0</td>\n",
              "      <td>1</td>\n",
              "      <td>6</td>\n",
              "      <td>14</td>\n",
              "      <td>1</td>\n",
              "      <td>0</td>\n",
              "      <td>0</td>\n",
              "      <td>2</td>\n",
              "      <td>0</td>\n",
              "      <td>0</td>\n",
              "      <td>3</td>\n",
              "      <td>0</td>\n",
              "      <td>1</td>\n",
              "      <td>56</td>\n",
              "      <td>1933.05</td>\n",
              "      <td>72809.58</td>\n",
              "      <td>241.08</td>\n",
              "      <td>809.44</td>\n",
              "      <td>119933.46</td>\n",
              "      <td>54607.18</td>\n",
              "    </tr>\n",
              "    <tr>\n",
              "      <th>1</th>\n",
              "      <td>2</td>\n",
              "      <td>0</td>\n",
              "      <td>0</td>\n",
              "      <td>2</td>\n",
              "      <td>8</td>\n",
              "      <td>1</td>\n",
              "      <td>0</td>\n",
              "      <td>1</td>\n",
              "      <td>0</td>\n",
              "      <td>0</td>\n",
              "      <td>2</td>\n",
              "      <td>1</td>\n",
              "      <td>2</td>\n",
              "      <td>0</td>\n",
              "      <td>65</td>\n",
              "      <td>988.19</td>\n",
              "      <td>45593.04</td>\n",
              "      <td>171.95</td>\n",
              "      <td>833.15</td>\n",
              "      <td>72440.58</td>\n",
              "      <td>36474.43</td>\n",
              "    </tr>\n",
              "  </tbody>\n",
              "</table>\n",
              "</div>"
            ],
            "text/plain": [
              "   Unnamed: 0  Gender  ...  Property Price  Loan Sanction Amount (USD)\n",
              "0           0       0  ...       119933.46                    54607.18\n",
              "1           2       0  ...        72440.58                    36474.43\n",
              "\n",
              "[2 rows x 21 columns]"
            ]
          },
          "metadata": {
            "tags": []
          },
          "execution_count": 3
        }
      ]
    },
    {
      "cell_type": "code",
      "metadata": {
        "colab": {
          "base_uri": "https://localhost:8080/",
          "height": 490
        },
        "id": "5MdxGlC9T0Xb",
        "outputId": "4321392b-23c1-4d16-bb89-6b51923579f7"
      },
      "source": [
        "dataset.drop(['Unnamed: 0'], axis= 1)"
      ],
      "execution_count": 4,
      "outputs": [
        {
          "output_type": "execute_result",
          "data": {
            "text/html": [
              "<div>\n",
              "<style scoped>\n",
              "    .dataframe tbody tr th:only-of-type {\n",
              "        vertical-align: middle;\n",
              "    }\n",
              "\n",
              "    .dataframe tbody tr th {\n",
              "        vertical-align: top;\n",
              "    }\n",
              "\n",
              "    .dataframe thead th {\n",
              "        text-align: right;\n",
              "    }\n",
              "</style>\n",
              "<table border=\"1\" class=\"dataframe\">\n",
              "  <thead>\n",
              "    <tr style=\"text-align: right;\">\n",
              "      <th></th>\n",
              "      <th>Gender</th>\n",
              "      <th>Income Stability</th>\n",
              "      <th>Profession</th>\n",
              "      <th>Type of Employment</th>\n",
              "      <th>Location</th>\n",
              "      <th>Expense Type 1</th>\n",
              "      <th>Expense Type 2</th>\n",
              "      <th>Dependents</th>\n",
              "      <th>No. of Defaults</th>\n",
              "      <th>Has Active Credit Card</th>\n",
              "      <th>Property Type</th>\n",
              "      <th>Property Location</th>\n",
              "      <th>Co-Applicant</th>\n",
              "      <th>Age</th>\n",
              "      <th>Income (USD)</th>\n",
              "      <th>Loan Amount Request (USD)</th>\n",
              "      <th>Current Loan Expenses (USD)</th>\n",
              "      <th>Credit Score</th>\n",
              "      <th>Property Price</th>\n",
              "      <th>Loan Sanction Amount (USD)</th>\n",
              "    </tr>\n",
              "  </thead>\n",
              "  <tbody>\n",
              "    <tr>\n",
              "      <th>0</th>\n",
              "      <td>0</td>\n",
              "      <td>1</td>\n",
              "      <td>6</td>\n",
              "      <td>14</td>\n",
              "      <td>1</td>\n",
              "      <td>0</td>\n",
              "      <td>0</td>\n",
              "      <td>2</td>\n",
              "      <td>0</td>\n",
              "      <td>0</td>\n",
              "      <td>3</td>\n",
              "      <td>0</td>\n",
              "      <td>1</td>\n",
              "      <td>56</td>\n",
              "      <td>1933.050000</td>\n",
              "      <td>72809.58</td>\n",
              "      <td>241.08</td>\n",
              "      <td>809.440000</td>\n",
              "      <td>119933.46</td>\n",
              "      <td>54607.18</td>\n",
              "    </tr>\n",
              "    <tr>\n",
              "      <th>1</th>\n",
              "      <td>0</td>\n",
              "      <td>0</td>\n",
              "      <td>2</td>\n",
              "      <td>8</td>\n",
              "      <td>1</td>\n",
              "      <td>0</td>\n",
              "      <td>1</td>\n",
              "      <td>0</td>\n",
              "      <td>0</td>\n",
              "      <td>2</td>\n",
              "      <td>1</td>\n",
              "      <td>2</td>\n",
              "      <td>0</td>\n",
              "      <td>65</td>\n",
              "      <td>988.190000</td>\n",
              "      <td>45593.04</td>\n",
              "      <td>171.95</td>\n",
              "      <td>833.150000</td>\n",
              "      <td>72440.58</td>\n",
              "      <td>36474.43</td>\n",
              "    </tr>\n",
              "    <tr>\n",
              "      <th>2</th>\n",
              "      <td>0</td>\n",
              "      <td>0</td>\n",
              "      <td>2</td>\n",
              "      <td>8</td>\n",
              "      <td>0</td>\n",
              "      <td>0</td>\n",
              "      <td>1</td>\n",
              "      <td>1</td>\n",
              "      <td>1</td>\n",
              "      <td>2</td>\n",
              "      <td>1</td>\n",
              "      <td>1</td>\n",
              "      <td>1</td>\n",
              "      <td>65</td>\n",
              "      <td>2630.574417</td>\n",
              "      <td>80057.92</td>\n",
              "      <td>298.54</td>\n",
              "      <td>832.700000</td>\n",
              "      <td>121441.51</td>\n",
              "      <td>56040.54</td>\n",
              "    </tr>\n",
              "    <tr>\n",
              "      <th>3</th>\n",
              "      <td>0</td>\n",
              "      <td>1</td>\n",
              "      <td>6</td>\n",
              "      <td>6</td>\n",
              "      <td>1</td>\n",
              "      <td>0</td>\n",
              "      <td>1</td>\n",
              "      <td>1</td>\n",
              "      <td>1</td>\n",
              "      <td>0</td>\n",
              "      <td>3</td>\n",
              "      <td>1</td>\n",
              "      <td>1</td>\n",
              "      <td>31</td>\n",
              "      <td>2614.770000</td>\n",
              "      <td>113858.89</td>\n",
              "      <td>491.41</td>\n",
              "      <td>745.550000</td>\n",
              "      <td>208567.91</td>\n",
              "      <td>74008.28</td>\n",
              "    </tr>\n",
              "    <tr>\n",
              "      <th>4</th>\n",
              "      <td>0</td>\n",
              "      <td>1</td>\n",
              "      <td>3</td>\n",
              "      <td>15</td>\n",
              "      <td>0</td>\n",
              "      <td>0</td>\n",
              "      <td>0</td>\n",
              "      <td>1</td>\n",
              "      <td>1</td>\n",
              "      <td>1</td>\n",
              "      <td>1</td>\n",
              "      <td>0</td>\n",
              "      <td>1</td>\n",
              "      <td>60</td>\n",
              "      <td>1234.920000</td>\n",
              "      <td>34434.72</td>\n",
              "      <td>181.48</td>\n",
              "      <td>684.120000</td>\n",
              "      <td>43146.82</td>\n",
              "      <td>22382.57</td>\n",
              "    </tr>\n",
              "    <tr>\n",
              "      <th>...</th>\n",
              "      <td>...</td>\n",
              "      <td>...</td>\n",
              "      <td>...</td>\n",
              "      <td>...</td>\n",
              "      <td>...</td>\n",
              "      <td>...</td>\n",
              "      <td>...</td>\n",
              "      <td>...</td>\n",
              "      <td>...</td>\n",
              "      <td>...</td>\n",
              "      <td>...</td>\n",
              "      <td>...</td>\n",
              "      <td>...</td>\n",
              "      <td>...</td>\n",
              "      <td>...</td>\n",
              "      <td>...</td>\n",
              "      <td>...</td>\n",
              "      <td>...</td>\n",
              "      <td>...</td>\n",
              "      <td>...</td>\n",
              "    </tr>\n",
              "    <tr>\n",
              "      <th>25567</th>\n",
              "      <td>1</td>\n",
              "      <td>1</td>\n",
              "      <td>1</td>\n",
              "      <td>10</td>\n",
              "      <td>0</td>\n",
              "      <td>1</td>\n",
              "      <td>1</td>\n",
              "      <td>2</td>\n",
              "      <td>0</td>\n",
              "      <td>1</td>\n",
              "      <td>2</td>\n",
              "      <td>2</td>\n",
              "      <td>1</td>\n",
              "      <td>39</td>\n",
              "      <td>2250.190000</td>\n",
              "      <td>83810.38</td>\n",
              "      <td>430.66</td>\n",
              "      <td>739.885381</td>\n",
              "      <td>129028.33</td>\n",
              "      <td>62857.78</td>\n",
              "    </tr>\n",
              "    <tr>\n",
              "      <th>25568</th>\n",
              "      <td>1</td>\n",
              "      <td>1</td>\n",
              "      <td>6</td>\n",
              "      <td>8</td>\n",
              "      <td>1</td>\n",
              "      <td>0</td>\n",
              "      <td>0</td>\n",
              "      <td>2</td>\n",
              "      <td>0</td>\n",
              "      <td>1</td>\n",
              "      <td>2</td>\n",
              "      <td>2</td>\n",
              "      <td>1</td>\n",
              "      <td>20</td>\n",
              "      <td>1606.880000</td>\n",
              "      <td>66595.14</td>\n",
              "      <td>253.04</td>\n",
              "      <td>729.410000</td>\n",
              "      <td>73453.94</td>\n",
              "      <td>46616.60</td>\n",
              "    </tr>\n",
              "    <tr>\n",
              "      <th>25569</th>\n",
              "      <td>0</td>\n",
              "      <td>1</td>\n",
              "      <td>6</td>\n",
              "      <td>14</td>\n",
              "      <td>2</td>\n",
              "      <td>0</td>\n",
              "      <td>1</td>\n",
              "      <td>1</td>\n",
              "      <td>0</td>\n",
              "      <td>0</td>\n",
              "      <td>0</td>\n",
              "      <td>0</td>\n",
              "      <td>1</td>\n",
              "      <td>49</td>\n",
              "      <td>2630.574417</td>\n",
              "      <td>81410.08</td>\n",
              "      <td>583.11</td>\n",
              "      <td>739.885381</td>\n",
              "      <td>102108.02</td>\n",
              "      <td>61057.56</td>\n",
              "    </tr>\n",
              "    <tr>\n",
              "      <th>25570</th>\n",
              "      <td>1</td>\n",
              "      <td>1</td>\n",
              "      <td>6</td>\n",
              "      <td>16</td>\n",
              "      <td>1</td>\n",
              "      <td>0</td>\n",
              "      <td>1</td>\n",
              "      <td>2</td>\n",
              "      <td>1</td>\n",
              "      <td>2</td>\n",
              "      <td>3</td>\n",
              "      <td>2</td>\n",
              "      <td>1</td>\n",
              "      <td>38</td>\n",
              "      <td>2417.710000</td>\n",
              "      <td>142524.10</td>\n",
              "      <td>378.29</td>\n",
              "      <td>677.270000</td>\n",
              "      <td>168194.47</td>\n",
              "      <td>99766.87</td>\n",
              "    </tr>\n",
              "    <tr>\n",
              "      <th>25571</th>\n",
              "      <td>0</td>\n",
              "      <td>0</td>\n",
              "      <td>2</td>\n",
              "      <td>8</td>\n",
              "      <td>0</td>\n",
              "      <td>0</td>\n",
              "      <td>1</td>\n",
              "      <td>0</td>\n",
              "      <td>0</td>\n",
              "      <td>0</td>\n",
              "      <td>2</td>\n",
              "      <td>0</td>\n",
              "      <td>1</td>\n",
              "      <td>63</td>\n",
              "      <td>3068.240000</td>\n",
              "      <td>156290.54</td>\n",
              "      <td>693.94</td>\n",
              "      <td>815.440000</td>\n",
              "      <td>194512.60</td>\n",
              "      <td>117217.90</td>\n",
              "    </tr>\n",
              "  </tbody>\n",
              "</table>\n",
              "<p>25572 rows × 20 columns</p>\n",
              "</div>"
            ],
            "text/plain": [
              "       Gender  Income Stability  ...  Property Price  Loan Sanction Amount (USD)\n",
              "0           0                 1  ...       119933.46                    54607.18\n",
              "1           0                 0  ...        72440.58                    36474.43\n",
              "2           0                 0  ...       121441.51                    56040.54\n",
              "3           0                 1  ...       208567.91                    74008.28\n",
              "4           0                 1  ...        43146.82                    22382.57\n",
              "...       ...               ...  ...             ...                         ...\n",
              "25567       1                 1  ...       129028.33                    62857.78\n",
              "25568       1                 1  ...        73453.94                    46616.60\n",
              "25569       0                 1  ...       102108.02                    61057.56\n",
              "25570       1                 1  ...       168194.47                    99766.87\n",
              "25571       0                 0  ...       194512.60                   117217.90\n",
              "\n",
              "[25572 rows x 20 columns]"
            ]
          },
          "metadata": {
            "tags": []
          },
          "execution_count": 4
        }
      ]
    },
    {
      "cell_type": "code",
      "metadata": {
        "id": "epKxc_4WTzYT"
      },
      "source": [
        "X = dataset.iloc[:, :-1].values\n",
        "y = dataset.iloc[:, -1].values"
      ],
      "execution_count": 5,
      "outputs": []
    },
    {
      "cell_type": "markdown",
      "metadata": {
        "id": "VC6omXel_Up0"
      },
      "source": [
        "### Splitting the dataset into the Training set and Test set"
      ]
    },
    {
      "cell_type": "code",
      "metadata": {
        "id": "L5edeb2r_agx"
      },
      "source": [
        "from sklearn.model_selection import train_test_split\n",
        "X_train, X_test, y_train, y_test = train_test_split(X, y, test_size = 0.2, random_state = 0)"
      ],
      "execution_count": 6,
      "outputs": []
    },
    {
      "cell_type": "markdown",
      "metadata": {
        "id": "_mSLlAT9_eyI"
      },
      "source": [
        "## Part 2 - Building the ANN"
      ]
    },
    {
      "cell_type": "markdown",
      "metadata": {
        "id": "CsBULd_f_wLY"
      },
      "source": [
        "### Initializing the ANN"
      ]
    },
    {
      "cell_type": "code",
      "metadata": {
        "id": "J6Hd97Ls__Nz"
      },
      "source": [
        "ann = tf.keras.models.Sequential()"
      ],
      "execution_count": 7,
      "outputs": []
    },
    {
      "cell_type": "markdown",
      "metadata": {
        "id": "iitAFJS_ABUn"
      },
      "source": [
        "### Adding the input layer and the first hidden layer"
      ]
    },
    {
      "cell_type": "code",
      "metadata": {
        "id": "ksO_Vv40AHix"
      },
      "source": [
        "ann.add(tf.keras.layers.Dense(units=6, activation='relu'))"
      ],
      "execution_count": 8,
      "outputs": []
    },
    {
      "cell_type": "markdown",
      "metadata": {
        "id": "-lb4kK_wAKbs"
      },
      "source": [
        "### Adding the second hidden layer"
      ]
    },
    {
      "cell_type": "code",
      "metadata": {
        "id": "c2357OqEAQOQ"
      },
      "source": [
        "ann.add(tf.keras.layers.Dense(units=6, activation='relu'))"
      ],
      "execution_count": 9,
      "outputs": []
    },
    {
      "cell_type": "markdown",
      "metadata": {
        "id": "jwMOmKb3AdBY"
      },
      "source": [
        "### Adding the output layer"
      ]
    },
    {
      "cell_type": "code",
      "metadata": {
        "id": "YFATpzsUAkLL"
      },
      "source": [
        "ann.add(tf.keras.layers.Dense(units=1))"
      ],
      "execution_count": 10,
      "outputs": []
    },
    {
      "cell_type": "markdown",
      "metadata": {
        "id": "fq7e4fF6A1yy"
      },
      "source": [
        "## Part 3 - Training the ANN"
      ]
    },
    {
      "cell_type": "markdown",
      "metadata": {
        "id": "qDeylAs2An25"
      },
      "source": [
        "### Compiling the ANN"
      ]
    },
    {
      "cell_type": "code",
      "metadata": {
        "id": "pesgbWlCAtB4"
      },
      "source": [
        "ann.compile(optimizer = 'adam', loss = 'mean_squared_error', metrics=['accuracy'])"
      ],
      "execution_count": 11,
      "outputs": []
    },
    {
      "cell_type": "markdown",
      "metadata": {
        "id": "YjVuiybYOo7r"
      },
      "source": [
        "### Training the ANN model on the Training set"
      ]
    },
    {
      "cell_type": "code",
      "metadata": {
        "id": "c_vV-tiiA5zn",
        "colab": {
          "base_uri": "https://localhost:8080/"
        },
        "outputId": "ba805b36-0d20-40d2-e6b3-61b723c1f832"
      },
      "source": [
        "ann.fit(X_train, y_train, batch_size = 32, epochs = 100)"
      ],
      "execution_count": 12,
      "outputs": [
        {
          "output_type": "stream",
          "text": [
            "Epoch 1/100\n",
            "640/640 [==============================] - 1s 1ms/step - loss: 962686272.0000 - accuracy: 0.0000e+00\n",
            "Epoch 2/100\n",
            "640/640 [==============================] - 1s 1ms/step - loss: 786561152.0000 - accuracy: 0.0000e+00\n",
            "Epoch 3/100\n",
            "640/640 [==============================] - 1s 1ms/step - loss: 769608320.0000 - accuracy: 0.0000e+00\n",
            "Epoch 4/100\n",
            "640/640 [==============================] - 1s 1ms/step - loss: 765083648.0000 - accuracy: 0.0000e+00\n",
            "Epoch 5/100\n",
            "640/640 [==============================] - 1s 1ms/step - loss: 764170752.0000 - accuracy: 0.0000e+00\n",
            "Epoch 6/100\n",
            "640/640 [==============================] - 1s 1ms/step - loss: 762980928.0000 - accuracy: 0.0000e+00\n",
            "Epoch 7/100\n",
            "640/640 [==============================] - 1s 1ms/step - loss: 762206336.0000 - accuracy: 0.0000e+00\n",
            "Epoch 8/100\n",
            "640/640 [==============================] - 1s 1ms/step - loss: 763498688.0000 - accuracy: 0.0000e+00\n",
            "Epoch 9/100\n",
            "640/640 [==============================] - 1s 1ms/step - loss: 762493312.0000 - accuracy: 0.0000e+00\n",
            "Epoch 10/100\n",
            "640/640 [==============================] - 1s 1ms/step - loss: 760920576.0000 - accuracy: 0.0000e+00\n",
            "Epoch 11/100\n",
            "640/640 [==============================] - 1s 1ms/step - loss: 762123584.0000 - accuracy: 0.0000e+00\n",
            "Epoch 12/100\n",
            "640/640 [==============================] - 1s 1ms/step - loss: 760881984.0000 - accuracy: 0.0000e+00\n",
            "Epoch 13/100\n",
            "640/640 [==============================] - 1s 1ms/step - loss: 760694528.0000 - accuracy: 0.0000e+00\n",
            "Epoch 14/100\n",
            "640/640 [==============================] - 1s 1ms/step - loss: 760142912.0000 - accuracy: 0.0000e+00\n",
            "Epoch 15/100\n",
            "640/640 [==============================] - 1s 1ms/step - loss: 761761984.0000 - accuracy: 0.0000e+00\n",
            "Epoch 16/100\n",
            "640/640 [==============================] - 1s 1ms/step - loss: 759831040.0000 - accuracy: 0.0000e+00\n",
            "Epoch 17/100\n",
            "640/640 [==============================] - 1s 1ms/step - loss: 761001280.0000 - accuracy: 0.0000e+00\n",
            "Epoch 18/100\n",
            "640/640 [==============================] - 1s 1ms/step - loss: 760326336.0000 - accuracy: 0.0000e+00\n",
            "Epoch 19/100\n",
            "640/640 [==============================] - 1s 1ms/step - loss: 759740672.0000 - accuracy: 0.0000e+00\n",
            "Epoch 20/100\n",
            "640/640 [==============================] - 1s 1ms/step - loss: 760521728.0000 - accuracy: 0.0000e+00\n",
            "Epoch 21/100\n",
            "640/640 [==============================] - 1s 1ms/step - loss: 759818432.0000 - accuracy: 0.0000e+00\n",
            "Epoch 22/100\n",
            "640/640 [==============================] - 1s 1ms/step - loss: 759735488.0000 - accuracy: 0.0000e+00\n",
            "Epoch 23/100\n",
            "640/640 [==============================] - 1s 1ms/step - loss: 759101824.0000 - accuracy: 0.0000e+00\n",
            "Epoch 24/100\n",
            "640/640 [==============================] - 1s 1ms/step - loss: 760069312.0000 - accuracy: 0.0000e+00\n",
            "Epoch 25/100\n",
            "640/640 [==============================] - 1s 1ms/step - loss: 759179392.0000 - accuracy: 0.0000e+00\n",
            "Epoch 26/100\n",
            "640/640 [==============================] - 1s 1ms/step - loss: 760510400.0000 - accuracy: 0.0000e+00\n",
            "Epoch 27/100\n",
            "640/640 [==============================] - 1s 1ms/step - loss: 759045568.0000 - accuracy: 0.0000e+00\n",
            "Epoch 28/100\n",
            "640/640 [==============================] - 1s 1ms/step - loss: 759053120.0000 - accuracy: 0.0000e+00\n",
            "Epoch 29/100\n",
            "640/640 [==============================] - 1s 1ms/step - loss: 758756544.0000 - accuracy: 0.0000e+00\n",
            "Epoch 30/100\n",
            "640/640 [==============================] - 1s 1ms/step - loss: 758804672.0000 - accuracy: 0.0000e+00\n",
            "Epoch 31/100\n",
            "640/640 [==============================] - 1s 1ms/step - loss: 758157120.0000 - accuracy: 0.0000e+00\n",
            "Epoch 32/100\n",
            "640/640 [==============================] - 1s 1ms/step - loss: 757769408.0000 - accuracy: 0.0000e+00\n",
            "Epoch 33/100\n",
            "640/640 [==============================] - 1s 1ms/step - loss: 758284672.0000 - accuracy: 0.0000e+00\n",
            "Epoch 34/100\n",
            "640/640 [==============================] - 1s 1ms/step - loss: 757729792.0000 - accuracy: 0.0000e+00\n",
            "Epoch 35/100\n",
            "640/640 [==============================] - 1s 1ms/step - loss: 758305344.0000 - accuracy: 0.0000e+00\n",
            "Epoch 36/100\n",
            "640/640 [==============================] - 1s 1ms/step - loss: 757634944.0000 - accuracy: 0.0000e+00\n",
            "Epoch 37/100\n",
            "640/640 [==============================] - 1s 1ms/step - loss: 757157440.0000 - accuracy: 0.0000e+00\n",
            "Epoch 38/100\n",
            "640/640 [==============================] - 1s 1ms/step - loss: 757295936.0000 - accuracy: 0.0000e+00\n",
            "Epoch 39/100\n",
            "640/640 [==============================] - 1s 1ms/step - loss: 758078976.0000 - accuracy: 0.0000e+00\n",
            "Epoch 40/100\n",
            "640/640 [==============================] - 1s 1ms/step - loss: 757752832.0000 - accuracy: 0.0000e+00\n",
            "Epoch 41/100\n",
            "640/640 [==============================] - 1s 1ms/step - loss: 756427840.0000 - accuracy: 0.0000e+00\n",
            "Epoch 42/100\n",
            "640/640 [==============================] - 1s 1ms/step - loss: 756997312.0000 - accuracy: 0.0000e+00\n",
            "Epoch 43/100\n",
            "640/640 [==============================] - 1s 1ms/step - loss: 756381504.0000 - accuracy: 0.0000e+00\n",
            "Epoch 44/100\n",
            "640/640 [==============================] - 1s 1ms/step - loss: 756715456.0000 - accuracy: 0.0000e+00\n",
            "Epoch 45/100\n",
            "640/640 [==============================] - 1s 1ms/step - loss: 755561024.0000 - accuracy: 0.0000e+00\n",
            "Epoch 46/100\n",
            "640/640 [==============================] - 1s 1ms/step - loss: 755789760.0000 - accuracy: 0.0000e+00\n",
            "Epoch 47/100\n",
            "640/640 [==============================] - 1s 1ms/step - loss: 755922240.0000 - accuracy: 0.0000e+00\n",
            "Epoch 48/100\n",
            "640/640 [==============================] - 1s 1ms/step - loss: 756034496.0000 - accuracy: 0.0000e+00\n",
            "Epoch 49/100\n",
            "640/640 [==============================] - 1s 1ms/step - loss: 756272384.0000 - accuracy: 0.0000e+00\n",
            "Epoch 50/100\n",
            "640/640 [==============================] - 1s 1ms/step - loss: 756374336.0000 - accuracy: 0.0000e+00\n",
            "Epoch 51/100\n",
            "640/640 [==============================] - 1s 1ms/step - loss: 755459200.0000 - accuracy: 0.0000e+00\n",
            "Epoch 52/100\n",
            "640/640 [==============================] - 1s 1ms/step - loss: 754561600.0000 - accuracy: 0.0000e+00\n",
            "Epoch 53/100\n",
            "640/640 [==============================] - 1s 1ms/step - loss: 755502080.0000 - accuracy: 0.0000e+00\n",
            "Epoch 54/100\n",
            "640/640 [==============================] - 1s 1ms/step - loss: 755618176.0000 - accuracy: 0.0000e+00\n",
            "Epoch 55/100\n",
            "640/640 [==============================] - 1s 1ms/step - loss: 755613568.0000 - accuracy: 0.0000e+00\n",
            "Epoch 56/100\n",
            "640/640 [==============================] - 1s 1ms/step - loss: 754724032.0000 - accuracy: 0.0000e+00\n",
            "Epoch 57/100\n",
            "640/640 [==============================] - 1s 1ms/step - loss: 754847744.0000 - accuracy: 0.0000e+00\n",
            "Epoch 58/100\n",
            "640/640 [==============================] - 1s 1ms/step - loss: 753785152.0000 - accuracy: 0.0000e+00\n",
            "Epoch 59/100\n",
            "640/640 [==============================] - 1s 1ms/step - loss: 754027456.0000 - accuracy: 0.0000e+00\n",
            "Epoch 60/100\n",
            "640/640 [==============================] - 1s 1ms/step - loss: 754510464.0000 - accuracy: 0.0000e+00\n",
            "Epoch 61/100\n",
            "640/640 [==============================] - 1s 1ms/step - loss: 754449728.0000 - accuracy: 0.0000e+00\n",
            "Epoch 62/100\n",
            "640/640 [==============================] - 1s 1ms/step - loss: 753925120.0000 - accuracy: 0.0000e+00\n",
            "Epoch 63/100\n",
            "640/640 [==============================] - 1s 1ms/step - loss: 753871936.0000 - accuracy: 0.0000e+00\n",
            "Epoch 64/100\n",
            "640/640 [==============================] - 1s 1ms/step - loss: 753870016.0000 - accuracy: 0.0000e+00\n",
            "Epoch 65/100\n",
            "640/640 [==============================] - 1s 1ms/step - loss: 753526976.0000 - accuracy: 0.0000e+00\n",
            "Epoch 66/100\n",
            "640/640 [==============================] - 1s 1ms/step - loss: 752950848.0000 - accuracy: 0.0000e+00\n",
            "Epoch 67/100\n",
            "640/640 [==============================] - 1s 1ms/step - loss: 751908096.0000 - accuracy: 0.0000e+00\n",
            "Epoch 68/100\n",
            "640/640 [==============================] - 1s 1ms/step - loss: 752759488.0000 - accuracy: 0.0000e+00\n",
            "Epoch 69/100\n",
            "640/640 [==============================] - 1s 1ms/step - loss: 752465408.0000 - accuracy: 0.0000e+00\n",
            "Epoch 70/100\n",
            "640/640 [==============================] - 1s 1ms/step - loss: 752729984.0000 - accuracy: 0.0000e+00\n",
            "Epoch 71/100\n",
            "640/640 [==============================] - 1s 1ms/step - loss: 754411008.0000 - accuracy: 0.0000e+00\n",
            "Epoch 72/100\n",
            "640/640 [==============================] - 1s 1ms/step - loss: 752279360.0000 - accuracy: 0.0000e+00\n",
            "Epoch 73/100\n",
            "640/640 [==============================] - 1s 1ms/step - loss: 752966080.0000 - accuracy: 0.0000e+00\n",
            "Epoch 74/100\n",
            "640/640 [==============================] - 1s 1ms/step - loss: 751600640.0000 - accuracy: 0.0000e+00\n",
            "Epoch 75/100\n",
            "640/640 [==============================] - 1s 1ms/step - loss: 752230400.0000 - accuracy: 0.0000e+00\n",
            "Epoch 76/100\n",
            "640/640 [==============================] - 1s 1ms/step - loss: 752663552.0000 - accuracy: 0.0000e+00\n",
            "Epoch 77/100\n",
            "640/640 [==============================] - 1s 1ms/step - loss: 750723136.0000 - accuracy: 0.0000e+00\n",
            "Epoch 78/100\n",
            "640/640 [==============================] - 1s 1ms/step - loss: 752124416.0000 - accuracy: 0.0000e+00\n",
            "Epoch 79/100\n",
            "640/640 [==============================] - 1s 1ms/step - loss: 751116736.0000 - accuracy: 0.0000e+00\n",
            "Epoch 80/100\n",
            "640/640 [==============================] - 1s 1ms/step - loss: 751259520.0000 - accuracy: 0.0000e+00\n",
            "Epoch 81/100\n",
            "640/640 [==============================] - 1s 1ms/step - loss: 751205440.0000 - accuracy: 0.0000e+00\n",
            "Epoch 82/100\n",
            "640/640 [==============================] - 1s 1ms/step - loss: 750842048.0000 - accuracy: 0.0000e+00\n",
            "Epoch 83/100\n",
            "640/640 [==============================] - 1s 1ms/step - loss: 751180032.0000 - accuracy: 0.0000e+00\n",
            "Epoch 84/100\n",
            "640/640 [==============================] - 1s 1ms/step - loss: 751360448.0000 - accuracy: 0.0000e+00\n",
            "Epoch 85/100\n",
            "640/640 [==============================] - 1s 1ms/step - loss: 750205184.0000 - accuracy: 0.0000e+00\n",
            "Epoch 86/100\n",
            "640/640 [==============================] - 1s 1ms/step - loss: 751042624.0000 - accuracy: 0.0000e+00\n",
            "Epoch 87/100\n",
            "640/640 [==============================] - 1s 1ms/step - loss: 750848320.0000 - accuracy: 0.0000e+00\n",
            "Epoch 88/100\n",
            "640/640 [==============================] - 1s 1ms/step - loss: 752396992.0000 - accuracy: 0.0000e+00\n",
            "Epoch 89/100\n",
            "640/640 [==============================] - 1s 1ms/step - loss: 750794176.0000 - accuracy: 0.0000e+00\n",
            "Epoch 90/100\n",
            "640/640 [==============================] - 1s 1ms/step - loss: 751013312.0000 - accuracy: 0.0000e+00\n",
            "Epoch 91/100\n",
            "640/640 [==============================] - 1s 1ms/step - loss: 749741376.0000 - accuracy: 0.0000e+00\n",
            "Epoch 92/100\n",
            "640/640 [==============================] - 1s 1ms/step - loss: 750282304.0000 - accuracy: 0.0000e+00\n",
            "Epoch 93/100\n",
            "640/640 [==============================] - 1s 1ms/step - loss: 750067776.0000 - accuracy: 0.0000e+00\n",
            "Epoch 94/100\n",
            "640/640 [==============================] - 1s 1ms/step - loss: 750114560.0000 - accuracy: 0.0000e+00\n",
            "Epoch 95/100\n",
            "640/640 [==============================] - 1s 1ms/step - loss: 749477824.0000 - accuracy: 0.0000e+00\n",
            "Epoch 96/100\n",
            "640/640 [==============================] - 1s 1ms/step - loss: 751080448.0000 - accuracy: 0.0000e+00\n",
            "Epoch 97/100\n",
            "640/640 [==============================] - 1s 1ms/step - loss: 749026432.0000 - accuracy: 0.0000e+00\n",
            "Epoch 98/100\n",
            "640/640 [==============================] - 1s 1ms/step - loss: 749328384.0000 - accuracy: 0.0000e+00\n",
            "Epoch 99/100\n",
            "640/640 [==============================] - 1s 1ms/step - loss: 749997824.0000 - accuracy: 0.0000e+00\n",
            "Epoch 100/100\n",
            "640/640 [==============================] - 1s 1ms/step - loss: 749427008.0000 - accuracy: 0.0000e+00\n"
          ],
          "name": "stdout"
        },
        {
          "output_type": "execute_result",
          "data": {
            "text/plain": [
              "<tensorflow.python.keras.callbacks.History at 0x7fb79c711290>"
            ]
          },
          "metadata": {
            "tags": []
          },
          "execution_count": 12
        }
      ]
    },
    {
      "cell_type": "markdown",
      "metadata": {
        "id": "0H0zKKNEBLD5"
      },
      "source": [
        "### Predicting the results of the Test set"
      ]
    },
    {
      "cell_type": "code",
      "metadata": {
        "id": "wc9OpEL_an7s"
      },
      "source": [
        "# Predict the test set\n",
        "y_pred = ann.predict(X_test)"
      ],
      "execution_count": 13,
      "outputs": []
    },
    {
      "cell_type": "code",
      "metadata": {
        "colab": {
          "base_uri": "https://localhost:8080/"
        },
        "id": "R9m0uk9RAWFN",
        "outputId": "0677f00c-e97e-4c84-b5e7-87438f603784"
      },
      "source": [
        "y_pred"
      ],
      "execution_count": 15,
      "outputs": [
        {
          "output_type": "execute_result",
          "data": {
            "text/plain": [
              "array([[ 74234.76 ],\n",
              "       [ 32998.387],\n",
              "       [109598.12 ],\n",
              "       ...,\n",
              "       [ 16546.195],\n",
              "       [ 24909.137],\n",
              "       [ 19526.22 ]], dtype=float32)"
            ]
          },
          "metadata": {
            "tags": []
          },
          "execution_count": 15
        }
      ]
    },
    {
      "cell_type": "code",
      "metadata": {
        "id": "j_dg8xsCAgoJ"
      },
      "source": [
        "from sklearn.metrics import mean_squared_error\n",
        "from math import sqrt"
      ],
      "execution_count": 16,
      "outputs": []
    },
    {
      "cell_type": "code",
      "metadata": {
        "colab": {
          "base_uri": "https://localhost:8080/"
        },
        "id": "yJD0U1NfscwO",
        "outputId": "2f3f96e7-dde5-4b45-a96e-6e2029443e6d"
      },
      "source": [
        "rmse = mean_squared_error(y_test, y_pred)\n",
        "print(\"Root Mean Square Error : {:.4f}\".format(rmse))"
      ],
      "execution_count": 17,
      "outputs": [
        {
          "output_type": "stream",
          "text": [
            "Root Mean Square Error : 748730025.5372\n"
          ],
          "name": "stdout"
        }
      ]
    },
    {
      "cell_type": "code",
      "metadata": {
        "colab": {
          "base_uri": "https://localhost:8080/"
        },
        "id": "djMvkfH2An99",
        "outputId": "f3490ed2-893e-4df7-8642-4ad7f28eeb0d"
      },
      "source": [
        "rmse_sq = sqrt(mean_squared_error(y_test, y_pred))\n",
        "print(\"Square Root Mean Square Error : {:.4f}\".format(rmse_sq))"
      ],
      "execution_count": 18,
      "outputs": [
        {
          "output_type": "stream",
          "text": [
            "Square Root Mean Square Error : 27362.9316\n"
          ],
          "name": "stdout"
        }
      ]
    },
    {
      "cell_type": "code",
      "metadata": {
        "id": "IA0yApEmBG1X",
        "colab": {
          "base_uri": "https://localhost:8080/"
        },
        "outputId": "55b41a6f-eec5-4ea1-a063-abb60b12a581"
      },
      "source": [
        "y_pred = ann.predict(X_test)\n",
        "np.set_printoptions(precision=2)\n",
        "print(np.concatenate((y_pred.reshape(len(y_pred),1), y_test.reshape(len(y_test),1)),1))"
      ],
      "execution_count": 19,
      "outputs": [
        {
          "output_type": "stream",
          "text": [
            "[[ 74234.76 116194.94]\n",
            " [ 32998.39      0.  ]\n",
            " [109598.12 138843.32]\n",
            " ...\n",
            " [ 16546.2       0.  ]\n",
            " [ 24909.14      0.  ]\n",
            " [ 19526.22  22172.31]]\n"
          ],
          "name": "stdout"
        }
      ]
    },
    {
      "cell_type": "code",
      "metadata": {
        "id": "zMmTTGdZB_6-"
      },
      "source": [
        "ann."
      ],
      "execution_count": null,
      "outputs": []
    }
  ]
}