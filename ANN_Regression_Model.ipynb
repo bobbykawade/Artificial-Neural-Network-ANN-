{
  "nbformat": 4,
  "nbformat_minor": 0,
  "metadata": {
    "colab": {
      "name": "ANN Regression Model.ipynb",
      "provenance": [],
      "collapsed_sections": []
    },
    "kernelspec": {
      "name": "python3",
      "display_name": "Python 3"
    },
    "language_info": {
      "name": "python"
    }
  },
  "cells": [
    {
      "cell_type": "code",
      "metadata": {
        "colab": {
          "base_uri": "https://localhost:8080/"
        },
        "id": "gX6HyQdrQbvv",
        "outputId": "c780490d-ce33-4fe5-8703-16b613b1a2a0"
      },
      "source": [
        "  from google.colab import drive\n",
        "  drive.mount('/content/drive')"
      ],
      "execution_count": 2,
      "outputs": [
        {
          "output_type": "stream",
          "text": [
            "Mounted at /content/drive\n"
          ],
          "name": "stdout"
        }
      ]
    },
    {
      "cell_type": "code",
      "metadata": {
        "id": "Y-Ew1BSNSYSo"
      },
      "source": [
        "import numpy as np\n",
        "import pandas as pd\n",
        "import tensorflow as tf"
      ],
      "execution_count": 3,
      "outputs": []
    },
    {
      "cell_type": "code",
      "metadata": {
        "colab": {
          "base_uri": "https://localhost:8080/",
          "height": 35
        },
        "id": "nTlznRCUSeyW",
        "outputId": "1e82c1d2-ec5e-4b1d-809e-775a971ecaa9"
      },
      "source": [
        "tf.__version__"
      ],
      "execution_count": 4,
      "outputs": [
        {
          "output_type": "execute_result",
          "data": {
            "application/vnd.google.colaboratory.intrinsic+json": {
              "type": "string"
            },
            "text/plain": [
              "'2.4.1'"
            ]
          },
          "metadata": {
            "tags": []
          },
          "execution_count": 4
        }
      ]
    },
    {
      "cell_type": "code",
      "metadata": {
        "id": "bADa1CdUSe1R"
      },
      "source": [
        "dataset = pd.read_excel('/content/drive/MyDrive/Colab Notebooks/ANN with Regression Udemy Deep Learning/Final Folder/Dataset/Folds5x2_pp.xlsx')\n",
        "X = dataset.iloc[:, :-1].values\n",
        "y = dataset.iloc[:, -1].values"
      ],
      "execution_count": 6,
      "outputs": []
    },
    {
      "cell_type": "code",
      "metadata": {
        "colab": {
          "base_uri": "https://localhost:8080/",
          "height": 419
        },
        "id": "e81OB4j8Se4e",
        "outputId": "9137e712-2889-443b-94a4-6af3c89164e6"
      },
      "source": [
        "dataset"
      ],
      "execution_count": 7,
      "outputs": [
        {
          "output_type": "execute_result",
          "data": {
            "text/html": [
              "<div>\n",
              "<style scoped>\n",
              "    .dataframe tbody tr th:only-of-type {\n",
              "        vertical-align: middle;\n",
              "    }\n",
              "\n",
              "    .dataframe tbody tr th {\n",
              "        vertical-align: top;\n",
              "    }\n",
              "\n",
              "    .dataframe thead th {\n",
              "        text-align: right;\n",
              "    }\n",
              "</style>\n",
              "<table border=\"1\" class=\"dataframe\">\n",
              "  <thead>\n",
              "    <tr style=\"text-align: right;\">\n",
              "      <th></th>\n",
              "      <th>AT</th>\n",
              "      <th>V</th>\n",
              "      <th>AP</th>\n",
              "      <th>RH</th>\n",
              "      <th>PE</th>\n",
              "    </tr>\n",
              "  </thead>\n",
              "  <tbody>\n",
              "    <tr>\n",
              "      <th>0</th>\n",
              "      <td>14.96</td>\n",
              "      <td>41.76</td>\n",
              "      <td>1024.07</td>\n",
              "      <td>73.17</td>\n",
              "      <td>463.26</td>\n",
              "    </tr>\n",
              "    <tr>\n",
              "      <th>1</th>\n",
              "      <td>25.18</td>\n",
              "      <td>62.96</td>\n",
              "      <td>1020.04</td>\n",
              "      <td>59.08</td>\n",
              "      <td>444.37</td>\n",
              "    </tr>\n",
              "    <tr>\n",
              "      <th>2</th>\n",
              "      <td>5.11</td>\n",
              "      <td>39.40</td>\n",
              "      <td>1012.16</td>\n",
              "      <td>92.14</td>\n",
              "      <td>488.56</td>\n",
              "    </tr>\n",
              "    <tr>\n",
              "      <th>3</th>\n",
              "      <td>20.86</td>\n",
              "      <td>57.32</td>\n",
              "      <td>1010.24</td>\n",
              "      <td>76.64</td>\n",
              "      <td>446.48</td>\n",
              "    </tr>\n",
              "    <tr>\n",
              "      <th>4</th>\n",
              "      <td>10.82</td>\n",
              "      <td>37.50</td>\n",
              "      <td>1009.23</td>\n",
              "      <td>96.62</td>\n",
              "      <td>473.90</td>\n",
              "    </tr>\n",
              "    <tr>\n",
              "      <th>...</th>\n",
              "      <td>...</td>\n",
              "      <td>...</td>\n",
              "      <td>...</td>\n",
              "      <td>...</td>\n",
              "      <td>...</td>\n",
              "    </tr>\n",
              "    <tr>\n",
              "      <th>9563</th>\n",
              "      <td>16.65</td>\n",
              "      <td>49.69</td>\n",
              "      <td>1014.01</td>\n",
              "      <td>91.00</td>\n",
              "      <td>460.03</td>\n",
              "    </tr>\n",
              "    <tr>\n",
              "      <th>9564</th>\n",
              "      <td>13.19</td>\n",
              "      <td>39.18</td>\n",
              "      <td>1023.67</td>\n",
              "      <td>66.78</td>\n",
              "      <td>469.62</td>\n",
              "    </tr>\n",
              "    <tr>\n",
              "      <th>9565</th>\n",
              "      <td>31.32</td>\n",
              "      <td>74.33</td>\n",
              "      <td>1012.92</td>\n",
              "      <td>36.48</td>\n",
              "      <td>429.57</td>\n",
              "    </tr>\n",
              "    <tr>\n",
              "      <th>9566</th>\n",
              "      <td>24.48</td>\n",
              "      <td>69.45</td>\n",
              "      <td>1013.86</td>\n",
              "      <td>62.39</td>\n",
              "      <td>435.74</td>\n",
              "    </tr>\n",
              "    <tr>\n",
              "      <th>9567</th>\n",
              "      <td>21.60</td>\n",
              "      <td>62.52</td>\n",
              "      <td>1017.23</td>\n",
              "      <td>67.87</td>\n",
              "      <td>453.28</td>\n",
              "    </tr>\n",
              "  </tbody>\n",
              "</table>\n",
              "<p>9568 rows × 5 columns</p>\n",
              "</div>"
            ],
            "text/plain": [
              "         AT      V       AP     RH      PE\n",
              "0     14.96  41.76  1024.07  73.17  463.26\n",
              "1     25.18  62.96  1020.04  59.08  444.37\n",
              "2      5.11  39.40  1012.16  92.14  488.56\n",
              "3     20.86  57.32  1010.24  76.64  446.48\n",
              "4     10.82  37.50  1009.23  96.62  473.90\n",
              "...     ...    ...      ...    ...     ...\n",
              "9563  16.65  49.69  1014.01  91.00  460.03\n",
              "9564  13.19  39.18  1023.67  66.78  469.62\n",
              "9565  31.32  74.33  1012.92  36.48  429.57\n",
              "9566  24.48  69.45  1013.86  62.39  435.74\n",
              "9567  21.60  62.52  1017.23  67.87  453.28\n",
              "\n",
              "[9568 rows x 5 columns]"
            ]
          },
          "metadata": {
            "tags": []
          },
          "execution_count": 7
        }
      ]
    },
    {
      "cell_type": "markdown",
      "metadata": {
        "id": "lO-2hWzPTkD_"
      },
      "source": [
        "# Data Preprocessing"
      ]
    },
    {
      "cell_type": "markdown",
      "metadata": {
        "id": "CjDHdtNzUFBl"
      },
      "source": [
        "#Splitting the dataset into the Training set and Test set"
      ]
    },
    {
      "cell_type": "code",
      "metadata": {
        "id": "TnE8sHd0UIfR"
      },
      "source": [
        "from sklearn.model_selection import train_test_split\n",
        "X_train, X_test, y_train, y_test = train_test_split(X, y, test_size = 0.2, random_state = 0)"
      ],
      "execution_count": 8,
      "outputs": []
    },
    {
      "cell_type": "code",
      "metadata": {
        "colab": {
          "base_uri": "https://localhost:8080/"
        },
        "id": "S5uUWNdX5Uwv",
        "outputId": "9df9520c-a2ef-4f49-95e8-854d2904cb59"
      },
      "source": [
        "X_train"
      ],
      "execution_count": 9,
      "outputs": [
        {
          "output_type": "execute_result",
          "data": {
            "text/plain": [
              "array([[  11.22,   43.13, 1017.24,   80.9 ],\n",
              "       [  13.67,   54.3 , 1015.92,   75.42],\n",
              "       [  32.84,   77.95, 1014.68,   45.8 ],\n",
              "       ...,\n",
              "       [  16.81,   38.52, 1018.26,   75.21],\n",
              "       [  12.8 ,   41.16, 1022.43,   86.19],\n",
              "       [  32.32,   67.9 , 1006.08,   37.93]])"
            ]
          },
          "metadata": {
            "tags": []
          },
          "execution_count": 9
        }
      ]
    },
    {
      "cell_type": "code",
      "metadata": {
        "colab": {
          "base_uri": "https://localhost:8080/"
        },
        "id": "DkGgxo9G5YJd",
        "outputId": "ef0541b3-0df1-4712-e92e-aed93d40c8f6"
      },
      "source": [
        "X_test"
      ],
      "execution_count": 10,
      "outputs": [
        {
          "output_type": "execute_result",
          "data": {
            "text/plain": [
              "array([[  28.66,   77.95, 1009.56,   69.07],\n",
              "       [  17.48,   49.39, 1021.51,   84.53],\n",
              "       [  14.86,   43.14, 1019.21,   99.14],\n",
              "       ...,\n",
              "       [  12.24,   44.92, 1023.74,   88.21],\n",
              "       [  27.28,   47.93, 1003.46,   59.22],\n",
              "       [  17.28,   39.99, 1007.09,   74.25]])"
            ]
          },
          "metadata": {
            "tags": []
          },
          "execution_count": 10
        }
      ]
    },
    {
      "cell_type": "markdown",
      "metadata": {
        "id": "wN3XneI1Uphf"
      },
      "source": [
        "# Building ANN"
      ]
    },
    {
      "cell_type": "markdown",
      "metadata": {
        "id": "DBr5Rg83U0Ht"
      },
      "source": [
        "## Intializing ANN"
      ]
    },
    {
      "cell_type": "code",
      "metadata": {
        "id": "3-yJNEsdU38Y"
      },
      "source": [
        "ann = tf.keras.models.Sequential()"
      ],
      "execution_count": 11,
      "outputs": []
    },
    {
      "cell_type": "markdown",
      "metadata": {
        "id": "WPdixo5G5rid"
      },
      "source": [
        "# Adding the input layer and the first hidden layer"
      ]
    },
    {
      "cell_type": "code",
      "metadata": {
        "id": "-SAWZMlx52lB"
      },
      "source": [
        "ann.add(tf.keras.layers.Dense(units=6, activation='relu'))"
      ],
      "execution_count": 12,
      "outputs": []
    },
    {
      "cell_type": "markdown",
      "metadata": {
        "id": "C0MMfudu7D86"
      },
      "source": [
        "# Adding the second hidden layer"
      ]
    },
    {
      "cell_type": "code",
      "metadata": {
        "id": "3ULTKCs37PCi"
      },
      "source": [
        "ann.add(tf.keras.layers.Dense(units=6, activation='relu'))"
      ],
      "execution_count": 13,
      "outputs": []
    },
    {
      "cell_type": "markdown",
      "metadata": {
        "id": "bzp7kdvG7jMV"
      },
      "source": [
        "# Adding the output layer"
      ]
    },
    {
      "cell_type": "code",
      "metadata": {
        "id": "sFWdvlTO7oWH"
      },
      "source": [
        "ann.add(tf.keras.layers.Dense(units=1))"
      ],
      "execution_count": 15,
      "outputs": []
    },
    {
      "cell_type": "markdown",
      "metadata": {
        "id": "t2Ob7qQ-7xeD"
      },
      "source": [
        "# Part 3 - Training the ANN"
      ]
    },
    {
      "cell_type": "markdown",
      "metadata": {
        "id": "5eQvdr6173GQ"
      },
      "source": [
        "## Compiling the ANN"
      ]
    },
    {
      "cell_type": "code",
      "metadata": {
        "id": "j24aEMf979Z8"
      },
      "source": [
        "ann.compile(optimizer = 'adam', loss = 'mean_squared_error')"
      ],
      "execution_count": 16,
      "outputs": []
    },
    {
      "cell_type": "markdown",
      "metadata": {
        "id": "bncUaqKn8Guq"
      },
      "source": [
        "# Training the ANN model on the Training set"
      ]
    },
    {
      "cell_type": "code",
      "metadata": {
        "colab": {
          "base_uri": "https://localhost:8080/"
        },
        "id": "T6toS_rc8IYu",
        "outputId": "e7fc6476-e896-4c0f-960a-64410375b26f"
      },
      "source": [
        "ann.fit(X_train, y_train, batch_size = 32, epochs = 100)"
      ],
      "execution_count": 17,
      "outputs": [
        {
          "output_type": "stream",
          "text": [
            "Epoch 1/100\n",
            "240/240 [==============================] - 1s 1ms/step - loss: 174296.1621\n",
            "Epoch 2/100\n",
            "240/240 [==============================] - 0s 1ms/step - loss: 584.5953\n",
            "Epoch 3/100\n",
            "240/240 [==============================] - 0s 1ms/step - loss: 257.1494\n",
            "Epoch 4/100\n",
            "240/240 [==============================] - 0s 1ms/step - loss: 246.9750\n",
            "Epoch 5/100\n",
            "240/240 [==============================] - 0s 1ms/step - loss: 241.5552\n",
            "Epoch 6/100\n",
            "240/240 [==============================] - 0s 1ms/step - loss: 239.0596\n",
            "Epoch 7/100\n",
            "240/240 [==============================] - 0s 1ms/step - loss: 227.9874\n",
            "Epoch 8/100\n",
            "240/240 [==============================] - 0s 1ms/step - loss: 215.2374\n",
            "Epoch 9/100\n",
            "240/240 [==============================] - 0s 1ms/step - loss: 210.4740\n",
            "Epoch 10/100\n",
            "240/240 [==============================] - 0s 1ms/step - loss: 197.4659\n",
            "Epoch 11/100\n",
            "240/240 [==============================] - 0s 1ms/step - loss: 187.9422\n",
            "Epoch 12/100\n",
            "240/240 [==============================] - 0s 1ms/step - loss: 176.6675\n",
            "Epoch 13/100\n",
            "240/240 [==============================] - 0s 1ms/step - loss: 162.0299\n",
            "Epoch 14/100\n",
            "240/240 [==============================] - 0s 1ms/step - loss: 149.6638\n",
            "Epoch 15/100\n",
            "240/240 [==============================] - 0s 1ms/step - loss: 132.9308\n",
            "Epoch 16/100\n",
            "240/240 [==============================] - 0s 1ms/step - loss: 123.0057\n",
            "Epoch 17/100\n",
            "240/240 [==============================] - 0s 1ms/step - loss: 114.1675\n",
            "Epoch 18/100\n",
            "240/240 [==============================] - 0s 1ms/step - loss: 99.0425\n",
            "Epoch 19/100\n",
            "240/240 [==============================] - 0s 1ms/step - loss: 91.8460\n",
            "Epoch 20/100\n",
            "240/240 [==============================] - 0s 1ms/step - loss: 82.2547\n",
            "Epoch 21/100\n",
            "240/240 [==============================] - 0s 1ms/step - loss: 72.1999\n",
            "Epoch 22/100\n",
            "240/240 [==============================] - 0s 1ms/step - loss: 63.7034\n",
            "Epoch 23/100\n",
            "240/240 [==============================] - 0s 1ms/step - loss: 56.1870\n",
            "Epoch 24/100\n",
            "240/240 [==============================] - 0s 1ms/step - loss: 53.0644\n",
            "Epoch 25/100\n",
            "240/240 [==============================] - 0s 1ms/step - loss: 47.3679\n",
            "Epoch 26/100\n",
            "240/240 [==============================] - 0s 1ms/step - loss: 44.6784\n",
            "Epoch 27/100\n",
            "240/240 [==============================] - 0s 1ms/step - loss: 41.7948\n",
            "Epoch 28/100\n",
            "240/240 [==============================] - 0s 1ms/step - loss: 39.8143\n",
            "Epoch 29/100\n",
            "240/240 [==============================] - 0s 1ms/step - loss: 37.5409\n",
            "Epoch 30/100\n",
            "240/240 [==============================] - 0s 1ms/step - loss: 37.4540\n",
            "Epoch 31/100\n",
            "240/240 [==============================] - 0s 1ms/step - loss: 34.3255\n",
            "Epoch 32/100\n",
            "240/240 [==============================] - 0s 1ms/step - loss: 34.4505\n",
            "Epoch 33/100\n",
            "240/240 [==============================] - 0s 1ms/step - loss: 34.2545\n",
            "Epoch 34/100\n",
            "240/240 [==============================] - 0s 1ms/step - loss: 32.4936\n",
            "Epoch 35/100\n",
            "240/240 [==============================] - 0s 1ms/step - loss: 31.4908\n",
            "Epoch 36/100\n",
            "240/240 [==============================] - 0s 1ms/step - loss: 32.1057\n",
            "Epoch 37/100\n",
            "240/240 [==============================] - 0s 1ms/step - loss: 32.0015\n",
            "Epoch 38/100\n",
            "240/240 [==============================] - 0s 1ms/step - loss: 31.9194\n",
            "Epoch 39/100\n",
            "240/240 [==============================] - 0s 1ms/step - loss: 30.7230\n",
            "Epoch 40/100\n",
            "240/240 [==============================] - 0s 1ms/step - loss: 30.1481\n",
            "Epoch 41/100\n",
            "240/240 [==============================] - 0s 1ms/step - loss: 31.1765\n",
            "Epoch 42/100\n",
            "240/240 [==============================] - 0s 2ms/step - loss: 29.5371\n",
            "Epoch 43/100\n",
            "240/240 [==============================] - 1s 4ms/step - loss: 29.5034\n",
            "Epoch 44/100\n",
            "240/240 [==============================] - 0s 2ms/step - loss: 28.9760\n",
            "Epoch 45/100\n",
            "240/240 [==============================] - 0s 1ms/step - loss: 29.7476\n",
            "Epoch 46/100\n",
            "240/240 [==============================] - 0s 1ms/step - loss: 28.8822\n",
            "Epoch 47/100\n",
            "240/240 [==============================] - 0s 1ms/step - loss: 28.5487\n",
            "Epoch 48/100\n",
            "240/240 [==============================] - 0s 1ms/step - loss: 28.1934\n",
            "Epoch 49/100\n",
            "240/240 [==============================] - 0s 1ms/step - loss: 28.1550\n",
            "Epoch 50/100\n",
            "240/240 [==============================] - 0s 1ms/step - loss: 28.2234\n",
            "Epoch 51/100\n",
            "240/240 [==============================] - 0s 1ms/step - loss: 29.5902\n",
            "Epoch 52/100\n",
            "240/240 [==============================] - 0s 1ms/step - loss: 28.7452\n",
            "Epoch 53/100\n",
            "240/240 [==============================] - 0s 1ms/step - loss: 27.8777\n",
            "Epoch 54/100\n",
            "240/240 [==============================] - 0s 1ms/step - loss: 28.8563\n",
            "Epoch 55/100\n",
            "240/240 [==============================] - 0s 1ms/step - loss: 28.8671\n",
            "Epoch 56/100\n",
            "240/240 [==============================] - 0s 1ms/step - loss: 28.0144\n",
            "Epoch 57/100\n",
            "240/240 [==============================] - 0s 1ms/step - loss: 27.1254\n",
            "Epoch 58/100\n",
            "240/240 [==============================] - 0s 1ms/step - loss: 28.2547\n",
            "Epoch 59/100\n",
            "240/240 [==============================] - 0s 1ms/step - loss: 27.3534\n",
            "Epoch 60/100\n",
            "240/240 [==============================] - 0s 1ms/step - loss: 28.1248\n",
            "Epoch 61/100\n",
            "240/240 [==============================] - 0s 1ms/step - loss: 27.9935\n",
            "Epoch 62/100\n",
            "240/240 [==============================] - 0s 1ms/step - loss: 27.1336\n",
            "Epoch 63/100\n",
            "240/240 [==============================] - 0s 1ms/step - loss: 28.0305\n",
            "Epoch 64/100\n",
            "240/240 [==============================] - 0s 1ms/step - loss: 27.2582\n",
            "Epoch 65/100\n",
            "240/240 [==============================] - 0s 1ms/step - loss: 27.9686\n",
            "Epoch 66/100\n",
            "240/240 [==============================] - 0s 1ms/step - loss: 27.3567\n",
            "Epoch 67/100\n",
            "240/240 [==============================] - 0s 1ms/step - loss: 27.8642\n",
            "Epoch 68/100\n",
            "240/240 [==============================] - 0s 1ms/step - loss: 27.0453\n",
            "Epoch 69/100\n",
            "240/240 [==============================] - 0s 1ms/step - loss: 27.6396\n",
            "Epoch 70/100\n",
            "240/240 [==============================] - 0s 1ms/step - loss: 27.3243\n",
            "Epoch 71/100\n",
            "240/240 [==============================] - 0s 2ms/step - loss: 27.5537\n",
            "Epoch 72/100\n",
            "240/240 [==============================] - 0s 2ms/step - loss: 27.3467\n",
            "Epoch 73/100\n",
            "240/240 [==============================] - 0s 2ms/step - loss: 26.2163\n",
            "Epoch 74/100\n",
            "240/240 [==============================] - 0s 2ms/step - loss: 27.0357\n",
            "Epoch 75/100\n",
            "240/240 [==============================] - 0s 2ms/step - loss: 26.0798\n",
            "Epoch 76/100\n",
            "240/240 [==============================] - 0s 2ms/step - loss: 27.3104\n",
            "Epoch 77/100\n",
            "240/240 [==============================] - 0s 2ms/step - loss: 27.6497\n",
            "Epoch 78/100\n",
            "240/240 [==============================] - 0s 2ms/step - loss: 26.4953\n",
            "Epoch 79/100\n",
            "240/240 [==============================] - 0s 2ms/step - loss: 26.2879\n",
            "Epoch 80/100\n",
            "240/240 [==============================] - 0s 2ms/step - loss: 26.9159\n",
            "Epoch 81/100\n",
            "240/240 [==============================] - 0s 2ms/step - loss: 26.2380\n",
            "Epoch 82/100\n",
            "240/240 [==============================] - 0s 2ms/step - loss: 27.2075\n",
            "Epoch 83/100\n",
            "240/240 [==============================] - 0s 2ms/step - loss: 26.6175\n",
            "Epoch 84/100\n",
            "240/240 [==============================] - 0s 2ms/step - loss: 26.6090\n",
            "Epoch 85/100\n",
            "240/240 [==============================] - 0s 2ms/step - loss: 27.7979\n",
            "Epoch 86/100\n",
            "240/240 [==============================] - 0s 2ms/step - loss: 28.5023\n",
            "Epoch 87/100\n",
            "240/240 [==============================] - 0s 2ms/step - loss: 27.5029\n",
            "Epoch 88/100\n",
            "240/240 [==============================] - 0s 2ms/step - loss: 25.3385\n",
            "Epoch 89/100\n",
            "240/240 [==============================] - 0s 1ms/step - loss: 27.0987\n",
            "Epoch 90/100\n",
            "240/240 [==============================] - 0s 2ms/step - loss: 26.0126\n",
            "Epoch 91/100\n",
            "240/240 [==============================] - 0s 2ms/step - loss: 27.2803\n",
            "Epoch 92/100\n",
            "240/240 [==============================] - 0s 2ms/step - loss: 27.1307\n",
            "Epoch 93/100\n",
            "240/240 [==============================] - 0s 2ms/step - loss: 27.6291\n",
            "Epoch 94/100\n",
            "240/240 [==============================] - 0s 2ms/step - loss: 27.0763\n",
            "Epoch 95/100\n",
            "240/240 [==============================] - 0s 2ms/step - loss: 26.8580\n",
            "Epoch 96/100\n",
            "240/240 [==============================] - 0s 2ms/step - loss: 26.2220\n",
            "Epoch 97/100\n",
            "240/240 [==============================] - 0s 2ms/step - loss: 27.9655\n",
            "Epoch 98/100\n",
            "240/240 [==============================] - 0s 2ms/step - loss: 27.0197\n",
            "Epoch 99/100\n",
            "240/240 [==============================] - 0s 2ms/step - loss: 27.6579\n",
            "Epoch 100/100\n",
            "240/240 [==============================] - 0s 2ms/step - loss: 27.4700\n"
          ],
          "name": "stdout"
        },
        {
          "output_type": "execute_result",
          "data": {
            "text/plain": [
              "<tensorflow.python.keras.callbacks.History at 0x7fef2be87210>"
            ]
          },
          "metadata": {
            "tags": []
          },
          "execution_count": 17
        }
      ]
    },
    {
      "cell_type": "markdown",
      "metadata": {
        "id": "o89KnwCu9Lqg"
      },
      "source": [
        "# Predicting the results of the Test set"
      ]
    },
    {
      "cell_type": "code",
      "metadata": {
        "colab": {
          "base_uri": "https://localhost:8080/"
        },
        "id": "GzYlFg4Q9RNu",
        "outputId": "ef2436da-dc72-4abc-fdff-e844b7debde4"
      },
      "source": [
        "y_pred = ann.predict(X_test)\n",
        "np.set_printoptions(precision=2)\n",
        "print(np.concatenate((y_pred.reshape(len(y_pred),1), y_test.reshape(len(y_test),1)),1))"
      ],
      "execution_count": 18,
      "outputs": [
        {
          "output_type": "stream",
          "text": [
            "[[429.83 431.23]\n",
            " [461.28 460.01]\n",
            " [464.99 461.14]\n",
            " ...\n",
            " [471.82 473.26]\n",
            " [439.37 438.  ]\n",
            " [458.27 463.28]]\n"
          ],
          "name": "stdout"
        }
      ]
    }
  ]
}